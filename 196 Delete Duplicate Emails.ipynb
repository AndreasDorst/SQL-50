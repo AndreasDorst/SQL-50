{
 "cells": [
  {
   "cell_type": "markdown",
   "id": "32394cf4-1fbc-49a2-a403-77e00ec3f80d",
   "metadata": {},
   "source": [
    "# Problem: Delete Duplicates Emails\n",
    "\n",
    "#### Table: `Person`\n",
    "\n",
    "| Column Name | Type    |\n",
    "|-------------|---------|\n",
    "| id          | int     |\n",
    "| email       | varchar |\n",
    "\n",
    "id is the primary key (column with unique values) for this table.  \n",
    "Each row of this table contains an email. The emails will not contain uppercase letters.  \n",
    " \n",
    "### Task\n",
    "**Write a solution to delete all duplicate emails, keeping only one unique email with the smallest `id`.** \n",
    "\n",
    "**For SQL users, please note that you are supposed to write a `DELETE` statement and not a `SELECT` one.** \n",
    "\n",
    "**For Pandas users, please note that you are supposed to modify `Person` in place.**\n",
    "\n",
    "**After running your script, the answer shown is the `Person` table. The driver will first compile and run your piece of code and then show the `Person` table. The final order of the `Person` table does not matter.** \n",
    "\n",
    "**The result format is in the following example.** \n",
    "\n",
    "\n",
    "### Example 1:\n",
    "\n",
    "### Input: \n",
    "\n",
    "#### Person table:\n",
    "\n",
    "| id | email            |\n",
    "|----|------------------|\n",
    "| 1  | john@example.com |\n",
    "| 2  | bob@example.com  |\n",
    "| 3  | john@example.com |\n",
    "\n",
    "### Output: \n",
    "\n",
    "| id | email            |\n",
    "|----|------------------|\n",
    "| 1  | john@example.com |\n",
    "| 2  | bob@example.com  |\n",
    "\n",
    "**Explanation**: john@example.com is repeated two times. We keep the row with the smallest Id = 1."
   ]
  },
  {
   "cell_type": "code",
   "execution_count": 9,
   "id": "90ab988e-b062-49d0-9635-21d382e31b09",
   "metadata": {},
   "outputs": [],
   "source": [
    "import sqlite3\n",
    "import pandas as pd"
   ]
  },
  {
   "cell_type": "code",
   "execution_count": 10,
   "id": "5b5339c5-416f-4171-b06d-8b9b6719570d",
   "metadata": {},
   "outputs": [],
   "source": [
    "# Connect to a database (or create it if it doesn't exist)\n",
    "conn = sqlite3.connect('example.db')"
   ]
  },
  {
   "cell_type": "code",
   "execution_count": 11,
   "id": "ca7dca3f-6747-4f12-9238-01ce4b11aa9f",
   "metadata": {},
   "outputs": [],
   "source": [
    "# Create a cursor object\n",
    "cursor = conn.cursor()"
   ]
  },
  {
   "cell_type": "code",
   "execution_count": 12,
   "id": "b7cd7d9b-e5cf-402c-8a33-4b8df59aeb7e",
   "metadata": {},
   "outputs": [
    {
     "data": {
      "text/plain": [
       "<sqlite3.Cursor at 0x1e6af2a1f40>"
      ]
     },
     "execution_count": 12,
     "metadata": {},
     "output_type": "execute_result"
    }
   ],
   "source": [
    "# Create a table\n",
    "cursor.execute('Create table If Not Exists Person (Id int, Email varchar(255))')"
   ]
  },
  {
   "cell_type": "code",
   "execution_count": 31,
   "id": "a3047a87-bc25-4e12-ba4c-4bf477fdf89f",
   "metadata": {},
   "outputs": [
    {
     "data": {
      "text/html": [
       "<div>\n",
       "<style scoped>\n",
       "    .dataframe tbody tr th:only-of-type {\n",
       "        vertical-align: middle;\n",
       "    }\n",
       "\n",
       "    .dataframe tbody tr th {\n",
       "        vertical-align: top;\n",
       "    }\n",
       "\n",
       "    .dataframe thead th {\n",
       "        text-align: right;\n",
       "    }\n",
       "</style>\n",
       "<table border=\"1\" class=\"dataframe\">\n",
       "  <thead>\n",
       "    <tr style=\"text-align: right;\">\n",
       "      <th></th>\n",
       "      <th>Id</th>\n",
       "      <th>Email</th>\n",
       "    </tr>\n",
       "  </thead>\n",
       "  <tbody>\n",
       "    <tr>\n",
       "      <th>0</th>\n",
       "      <td>1</td>\n",
       "      <td>john@example.com</td>\n",
       "    </tr>\n",
       "    <tr>\n",
       "      <th>1</th>\n",
       "      <td>2</td>\n",
       "      <td>bob@example.com</td>\n",
       "    </tr>\n",
       "    <tr>\n",
       "      <th>2</th>\n",
       "      <td>3</td>\n",
       "      <td>john@example.com</td>\n",
       "    </tr>\n",
       "  </tbody>\n",
       "</table>\n",
       "</div>"
      ],
      "text/plain": [
       "   Id             Email\n",
       "0   1  john@example.com\n",
       "1   2   bob@example.com\n",
       "2   3  john@example.com"
      ]
     },
     "execution_count": 31,
     "metadata": {},
     "output_type": "execute_result"
    }
   ],
   "source": [
    "# Delete all existing rows\n",
    "cursor.execute('DELETE FROM Person')\n",
    "\n",
    "# Create data\n",
    "data_to_insert = [\n",
    "    (1, 'john@example.com'),\n",
    "    (2, 'bob@example.com'),\n",
    "    (3, 'john@example.com'),\n",
    "]\n",
    "\n",
    "# Insert data\n",
    "cursor.executemany('''\n",
    "INSERT INTO Person (id, email)\n",
    "VALUES (?, ?)\n",
    "''', data_to_insert)\n",
    "\n",
    "# Commit changes\n",
    "conn.commit()\n",
    "\n",
    "# Check Person table\n",
    "df = pd.read_sql_query('select * from Person', conn)\n",
    "df"
   ]
  },
  {
   "cell_type": "code",
   "execution_count": 30,
   "id": "cc24d0b2-7495-404e-a921-55a5861ab4a1",
   "metadata": {},
   "outputs": [
    {
     "data": {
      "text/html": [
       "<div>\n",
       "<style scoped>\n",
       "    .dataframe tbody tr th:only-of-type {\n",
       "        vertical-align: middle;\n",
       "    }\n",
       "\n",
       "    .dataframe tbody tr th {\n",
       "        vertical-align: top;\n",
       "    }\n",
       "\n",
       "    .dataframe thead th {\n",
       "        text-align: right;\n",
       "    }\n",
       "</style>\n",
       "<table border=\"1\" class=\"dataframe\">\n",
       "  <thead>\n",
       "    <tr style=\"text-align: right;\">\n",
       "      <th></th>\n",
       "      <th>Id</th>\n",
       "      <th>Email</th>\n",
       "    </tr>\n",
       "  </thead>\n",
       "  <tbody>\n",
       "    <tr>\n",
       "      <th>0</th>\n",
       "      <td>1</td>\n",
       "      <td>john@example.com</td>\n",
       "    </tr>\n",
       "    <tr>\n",
       "      <th>1</th>\n",
       "      <td>2</td>\n",
       "      <td>bob@example.com</td>\n",
       "    </tr>\n",
       "  </tbody>\n",
       "</table>\n",
       "</div>"
      ],
      "text/plain": [
       "   Id             Email\n",
       "0   1  john@example.com\n",
       "1   2   bob@example.com"
      ]
     },
     "execution_count": 30,
     "metadata": {},
     "output_type": "execute_result"
    }
   ],
   "source": [
    "# Query\n",
    "query = '''\n",
    "delete from Person\n",
    "where id in (\n",
    "    select p1.id\n",
    "    from Person p1\n",
    "    join Person p2 on p1.email = p2.email\n",
    "    where p1.id > p2.id\n",
    ")\n",
    "'''\n",
    "\n",
    "cursor.execute(query)\n",
    "\n",
    "query = 'select * from Person'\n",
    "\n",
    "# Query data\n",
    "df = pd.read_sql_query(query, conn)\n",
    "\n",
    "# Display the result as a query\n",
    "df"
   ]
  },
  {
   "cell_type": "code",
   "execution_count": 33,
   "id": "6ec684a1",
   "metadata": {},
   "outputs": [
    {
     "data": {
      "text/html": [
       "<div>\n",
       "<style scoped>\n",
       "    .dataframe tbody tr th:only-of-type {\n",
       "        vertical-align: middle;\n",
       "    }\n",
       "\n",
       "    .dataframe tbody tr th {\n",
       "        vertical-align: top;\n",
       "    }\n",
       "\n",
       "    .dataframe thead th {\n",
       "        text-align: right;\n",
       "    }\n",
       "</style>\n",
       "<table border=\"1\" class=\"dataframe\">\n",
       "  <thead>\n",
       "    <tr style=\"text-align: right;\">\n",
       "      <th></th>\n",
       "      <th>Id</th>\n",
       "      <th>Email</th>\n",
       "    </tr>\n",
       "  </thead>\n",
       "  <tbody>\n",
       "    <tr>\n",
       "      <th>0</th>\n",
       "      <td>1</td>\n",
       "      <td>john@example.com</td>\n",
       "    </tr>\n",
       "    <tr>\n",
       "      <th>1</th>\n",
       "      <td>2</td>\n",
       "      <td>bob@example.com</td>\n",
       "    </tr>\n",
       "  </tbody>\n",
       "</table>\n",
       "</div>"
      ],
      "text/plain": [
       "   Id             Email\n",
       "0   1  john@example.com\n",
       "1   2   bob@example.com"
      ]
     },
     "execution_count": 33,
     "metadata": {},
     "output_type": "execute_result"
    }
   ],
   "source": [
    "# Query with ROWID (sqlite3)\n",
    "query = '''\n",
    "delete from Person\n",
    "where rowid not in (\n",
    "    select min(rowid)\n",
    "    from Person\n",
    "    group by email\n",
    ")\n",
    "'''\n",
    "\n",
    "cursor.execute(query)\n",
    "\n",
    "query = 'select * from Person'\n",
    "\n",
    "# Query data\n",
    "df = pd.read_sql_query(query, conn)\n",
    "\n",
    "# Display the result as a query\n",
    "df"
   ]
  },
  {
   "cell_type": "code",
   "execution_count": 7,
   "id": "c9b6c35e-67ac-4cce-b4a6-beb190edfbe1",
   "metadata": {},
   "outputs": [],
   "source": [
    "# Close the connection\n",
    "conn.close()"
   ]
  }
 ],
 "metadata": {
  "kernelspec": {
   "display_name": "venv",
   "language": "python",
   "name": "python3"
  },
  "language_info": {
   "codemirror_mode": {
    "name": "ipython",
    "version": 3
   },
   "file_extension": ".py",
   "mimetype": "text/x-python",
   "name": "python",
   "nbconvert_exporter": "python",
   "pygments_lexer": "ipython3",
   "version": "3.12.7"
  }
 },
 "nbformat": 4,
 "nbformat_minor": 5
}
