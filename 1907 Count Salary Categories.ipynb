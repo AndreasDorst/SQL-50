{
 "cells": [
  {
   "cell_type": "markdown",
   "id": "fe13b46c-a976-47f9-9e21-780fb4243870",
   "metadata": {},
   "source": [
    "# Problem: Categorize Bank Accounts by Salary Range\n",
    "\n",
    "#### Table: Accounts\n",
    "\n",
    "| Column Name | Type |\n",
    "|-------------|------|\n",
    "| account_id  | int  |\n",
    "| income      | int  |\n",
    "\n",
    "- `account_id` is the primary key (column with unique values) for this table.\n",
    "- Each row contains information about the monthly income for one bank account.\n",
    "\n",
    "### Task\n",
    "Write a solution to calculate the number of bank accounts for each salary category. The salary categories are:\n",
    "- `Low Salary`: All the salaries strictly less than $20,000.\n",
    "- `Average Salary`: All the salaries in the inclusive range [$20,000, $50,000].\n",
    "- `High Salary`: All the salaries strictly greater than $50,000.\n",
    "\n",
    "The result table must:\n",
    "- Contain all three categories.\n",
    "- Return `0` if there are no accounts in a category.\n",
    "- Be returned in any order.\n",
    "\n",
    "### Example\n",
    "\n",
    "### Input\n",
    "\n",
    "#### Accounts table:\n",
    "\n",
    "| account_id | income |\n",
    "|------------|--------|\n",
    "| 3          | 108939 |\n",
    "| 2          | 12747  |\n",
    "| 8          | 87709  |\n",
    "| 6          | 91796  |\n",
    "\n",
    "### Output\n",
    "\n",
    "| category       | accounts_count |\n",
    "|----------------|----------------|\n",
    "| Low Salary     | 1              |\n",
    "| Average Salary | 0              |\n",
    "| High Salary    | 3              |\n",
    "\n",
    "### Explanation\n",
    "\n",
    "- `Low Salary`: Only Account 2 has an income of $12,747, which is strictly less than $20,000.\n",
    "- `Average Salary`: No accounts fall within the income range [$20,000, $50,000].\n",
    "- `High Salary`: Accounts 3, 6, and 8 have incomes greater than $50,000.\n"
   ]
  },
  {
   "cell_type": "code",
   "execution_count": 3,
   "id": "e661abc9-f809-4a4f-8049-e25d2fe73060",
   "metadata": {},
   "outputs": [],
   "source": [
    "import sqlite3\n",
    "import pandas as pd"
   ]
  },
  {
   "cell_type": "code",
   "execution_count": 4,
   "id": "d59ae8ba-972a-46a8-887a-8f2a3dc6b82f",
   "metadata": {},
   "outputs": [],
   "source": [
    "# Connect to the database (or create it if it doesn't exist) with a busy_timeout of 5 seconds\n",
    "conn = sqlite3.connect('example.db')\n",
    "conn.execute('PRAGMA busy_timeout = 5000;')  # Timeout in milliseconds (5 seconds)\n",
    "\n",
    "# Create a cursor object\n",
    "cursor = conn.cursor()"
   ]
  },
  {
   "cell_type": "code",
   "execution_count": 7,
   "id": "18ce5973-4033-4dc0-a68f-fd2e86941d7d",
   "metadata": {
    "scrolled": true
   },
   "outputs": [
    {
     "data": {
      "text/plain": [
       "<sqlite3.Cursor at 0x220527948c0>"
      ]
     },
     "execution_count": 7,
     "metadata": {},
     "output_type": "execute_result"
    }
   ],
   "source": [
    "# Create a table\n",
    "cursor.execute('''\n",
    "CREATE TABLE IF NOT EXISTS Accounts (\n",
    "    account_id int,\n",
    "    income int\n",
    ")\n",
    "''')"
   ]
  },
  {
   "cell_type": "code",
   "execution_count": 8,
   "id": "862237f4-5011-4449-aa9c-6255af497223",
   "metadata": {},
   "outputs": [
    {
     "data": {
      "text/plain": [
       "<sqlite3.Cursor at 0x220527948c0>"
      ]
     },
     "execution_count": 8,
     "metadata": {},
     "output_type": "execute_result"
    }
   ],
   "source": [
    "# Truncate the table (delete all existing rows)\n",
    "cursor.execute('DELETE FROM Accounts')\n",
    "\n",
    "# Insert data\n",
    "data_to_insert = [\n",
    "    (3, 108939),\n",
    "    (2, 12747),\n",
    "    (7, 87709),\n",
    "    (6, 91796),\n",
    "]\n",
    "\n",
    "cursor.executemany('''\n",
    "INSERT INTO Accounts (account_id, income)\n",
    "VALUES (?, ?)\n",
    "''', data_to_insert)"
   ]
  },
  {
   "cell_type": "code",
   "execution_count": 9,
   "id": "84e9d5ee",
   "metadata": {},
   "outputs": [
    {
     "data": {
      "text/html": [
       "<div>\n",
       "<style scoped>\n",
       "    .dataframe tbody tr th:only-of-type {\n",
       "        vertical-align: middle;\n",
       "    }\n",
       "\n",
       "    .dataframe tbody tr th {\n",
       "        vertical-align: top;\n",
       "    }\n",
       "\n",
       "    .dataframe thead th {\n",
       "        text-align: right;\n",
       "    }\n",
       "</style>\n",
       "<table border=\"1\" class=\"dataframe\">\n",
       "  <thead>\n",
       "    <tr style=\"text-align: right;\">\n",
       "      <th></th>\n",
       "      <th>category</th>\n",
       "      <th>accounts_count</th>\n",
       "    </tr>\n",
       "  </thead>\n",
       "  <tbody>\n",
       "    <tr>\n",
       "      <th>0</th>\n",
       "      <td>Low Salary</td>\n",
       "      <td>1</td>\n",
       "    </tr>\n",
       "    <tr>\n",
       "      <th>1</th>\n",
       "      <td>Average Salary</td>\n",
       "      <td>0</td>\n",
       "    </tr>\n",
       "    <tr>\n",
       "      <th>2</th>\n",
       "      <td>High Salary</td>\n",
       "      <td>3</td>\n",
       "    </tr>\n",
       "  </tbody>\n",
       "</table>\n",
       "</div>"
      ],
      "text/plain": [
       "         category  accounts_count\n",
       "0      Low Salary               1\n",
       "1  Average Salary               0\n",
       "2     High Salary               3"
      ]
     },
     "execution_count": 9,
     "metadata": {},
     "output_type": "execute_result"
    }
   ],
   "source": [
    "# Simple solution with UNION ALL\n",
    "\n",
    "query = ('''\n",
    "SELECT \"Low Salary\" AS category,\n",
    "    COUNT(account_id) AS accounts_count\n",
    "FROM Accounts\n",
    "WHERE income < 20000\n",
    "UNION ALL\n",
    "SELECT \"Average Salary\" AS category,\n",
    "    COUNT(account_id) AS accounts_count\n",
    "FROM Accounts\n",
    "WHERE income BETWEEN 20000 AND 50000\n",
    "UNION ALL\n",
    "SELECT \"High Salary\" AS category,\n",
    "    COUNT(account_id) AS accounts_count\n",
    "FROM Accounts\n",
    "WHERE income > 50000;\n",
    "''')\n",
    "\n",
    "pd.read_sql_query(query, conn)"
   ]
  },
  {
   "cell_type": "code",
   "execution_count": null,
   "id": "ca27fabf-8c22-4d87-a459-27cc58f72b62",
   "metadata": {},
   "outputs": [
    {
     "data": {
      "text/plain": [
       "<sqlite3.Cursor at 0x2d790eac040>"
      ]
     },
     "execution_count": 108,
     "metadata": {},
     "output_type": "execute_result"
    }
   ],
   "source": [
    "# Create a temporary table SalaryCategories\n",
    "cursor.execute('''\n",
    "CREATE TEMPORARY TABLE IF NOT EXISTS SalaryCategories (\n",
    "    category VARCHAR(20),\n",
    "    accounts_count int\n",
    ")\n",
    "''')"
   ]
  },
  {
   "cell_type": "code",
   "execution_count": null,
   "id": "0c07fb91-5eac-4ab3-91ee-818f4a16b02d",
   "metadata": {},
   "outputs": [
    {
     "data": {
      "text/html": [
       "<div>\n",
       "<style scoped>\n",
       "    .dataframe tbody tr th:only-of-type {\n",
       "        vertical-align: middle;\n",
       "    }\n",
       "\n",
       "    .dataframe tbody tr th {\n",
       "        vertical-align: top;\n",
       "    }\n",
       "\n",
       "    .dataframe thead th {\n",
       "        text-align: right;\n",
       "    }\n",
       "</style>\n",
       "<table border=\"1\" class=\"dataframe\">\n",
       "  <thead>\n",
       "    <tr style=\"text-align: right;\">\n",
       "      <th></th>\n",
       "      <th>category</th>\n",
       "      <th>accounts_count</th>\n",
       "    </tr>\n",
       "  </thead>\n",
       "  <tbody>\n",
       "    <tr>\n",
       "      <th>0</th>\n",
       "      <td>Low Salary</td>\n",
       "      <td>1</td>\n",
       "    </tr>\n",
       "    <tr>\n",
       "      <th>1</th>\n",
       "      <td>Average Salary</td>\n",
       "      <td>0</td>\n",
       "    </tr>\n",
       "    <tr>\n",
       "      <th>2</th>\n",
       "      <td>High Salary</td>\n",
       "      <td>3</td>\n",
       "    </tr>\n",
       "  </tbody>\n",
       "</table>\n",
       "</div>"
      ],
      "text/plain": [
       "         category  accounts_count\n",
       "0      Low Salary               1\n",
       "1  Average Salary               0\n",
       "2     High Salary               3"
      ]
     },
     "execution_count": 110,
     "metadata": {},
     "output_type": "execute_result"
    }
   ],
   "source": [
    "# Truncate the table (delete all existing rows)\n",
    "cursor.execute('DELETE FROM SalaryCategories')\n",
    "\n",
    "# Fill a temporary table SalaryCategories\n",
    "data_to_insert = [\n",
    "    (\"Low Salary\", 0),\n",
    "    (\"Average Salary\", 0),\n",
    "    (\"High Salary\", 0),\n",
    "]\n",
    "\n",
    "cursor.executemany('''\n",
    "INSERT INTO SalaryCategories\n",
    "VALUES (?, ?)\n",
    "''', data_to_insert)\n",
    "\n",
    "# Sort accounts by income\n",
    "cursor.execute('''\n",
    "UPDATE SalaryCategories\n",
    "SET accounts_count = (\n",
    "    SELECT COUNT(*)\n",
    "    FROM Accounts\n",
    "    WHERE\n",
    "        (category = \"Low Salary\" AND income < 20000) OR\n",
    "        (category = \"Average Salary\" AND income BETWEEN 20000 AND 50000) OR\n",
    "        (category = \"High Salary\" AND income > 50000)\n",
    ")\n",
    "''')\n",
    "\n",
    "pd.read_sql_query('SELECT * FROM SalaryCategories', conn)"
   ]
  },
  {
   "cell_type": "code",
   "execution_count": null,
   "id": "eedffd66-30d4-418e-8b37-c45c719321a7",
   "metadata": {},
   "outputs": [],
   "source": [
    "# Commit the connection\n",
    "conn.commit()\n",
    "\n",
    "# Close the connection\n",
    "conn.close()"
   ]
  }
 ],
 "metadata": {
  "kernelspec": {
   "display_name": "venv",
   "language": "python",
   "name": "python3"
  },
  "language_info": {
   "codemirror_mode": {
    "name": "ipython",
    "version": 3
   },
   "file_extension": ".py",
   "mimetype": "text/x-python",
   "name": "python",
   "nbconvert_exporter": "python",
   "pygments_lexer": "ipython3",
   "version": "3.12.7"
  }
 },
 "nbformat": 4,
 "nbformat_minor": 5
}
