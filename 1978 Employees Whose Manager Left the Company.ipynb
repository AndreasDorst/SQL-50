{
 "cells": [
  {
   "cell_type": "markdown",
   "metadata": {},
   "source": [
    "# Problem: Employees Whose Manager Left the Company\n",
    "\n",
    "#### Table: Employees\n",
    "\n",
    "| Column Name | Type     |\n",
    "|-------------|----------|\n",
    "| employee_id | int      |\n",
    "| name        | varchar  |\n",
    "| manager_id  | int      |\n",
    "| salary      | int      |\n",
    "\n",
    "In SQL, `employee_id` is the primary key for this table.\n",
    "This table contains information about the employees, their salary, and the ID of their manager. Some employees do not have a manager (manager_id is null). \n",
    " \n",
    "\n",
    "**Find the IDs of the employees whose salary is strictly less than `$30000` and whose manager left the company. When a manager leaves the company, their information is deleted from the `Employees` table, but the reports still have their `manager_id` set to the manager that left.**\n",
    "\n",
    "**Return the result table ordered by `employee_id`.**\n",
    "\n",
    "**The result format is in the following example.**\n",
    "\n",
    "### Example 1:\n",
    "\n",
    "### Input:  \n",
    "\n",
    "#### Employees table:\n",
    "\n",
    "| employee_id | name      | manager_id | salary |\n",
    "|-------------|-----------|------------|--------|\n",
    "| 3           | Mila      | 9          | 60301  |\n",
    "| 12          | Antonella | null       | 31000  |\n",
    "| 13          | Emery     | null       | 67084  |\n",
    "| 1           | Kalel     | 11         | 21241  |\n",
    "| 9           | Mikaela   | null       | 50937  |\n",
    "| 11          | Joziah    | 6          | 28485  |\n",
    "\n",
    "### Output: \n",
    "\n",
    "| employee_id |\n",
    "|-------------|\n",
    "| 11          |\n",
    "\n",
    "Explanation: \n",
    "The employees with a salary less than $30000 are 1 (Kalel) and 11 (Joziah).\n",
    "Kalel's manager is employee 11, who is still in the company (Joziah).\n",
    "Joziah's manager is employee 6, who left the company because there is no row for employee 6 as it was deleted."
   ]
  },
  {
   "cell_type": "code",
   "execution_count": 43,
   "metadata": {},
   "outputs": [],
   "source": [
    "# Import Pandas and SQLAlchemy\n",
    "import pandas as pd\n",
    "from sqlalchemy import create_engine, text, MetaData, Table, Column, Integer, String"
   ]
  },
  {
   "cell_type": "code",
   "execution_count": null,
   "metadata": {},
   "outputs": [],
   "source": [
    "# Connect to SQLite database\n",
    "engine = create_engine('sqlite:///example.db', echo=True)  # `echo=True` shqows SQL logs"
   ]
  },
  {
   "cell_type": "code",
   "execution_count": 47,
   "metadata": {},
   "outputs": [],
   "source": [
    "# Define the metadata object\n",
    "metadata = MetaData()\n",
    "\n",
    "# Define the Employees table schema\n",
    "employees = Table(\n",
    "    'Employees', metadata,\n",
    "    Column('employee_id', Integer, primary_key=True),\n",
    "    Column('name', String),\n",
    "    Column('manager_id', Integer),\n",
    "    Column('salary', Integer)\n",
    ")"
   ]
  },
  {
   "cell_type": "code",
   "execution_count": 48,
   "metadata": {},
   "outputs": [
    {
     "name": "stdout",
     "output_type": "stream",
     "text": [
      "2024-12-09 12:21:02,729 INFO sqlalchemy.engine.Engine BEGIN (implicit)\n",
      "2024-12-09 12:21:02,732 INFO sqlalchemy.engine.Engine DROP TABLE IF EXISTS Employees\n",
      "2024-12-09 12:21:02,734 INFO sqlalchemy.engine.Engine [generated in 0.00511s] ()\n",
      "2024-12-09 12:21:02,811 INFO sqlalchemy.engine.Engine BEGIN (implicit)\n",
      "2024-12-09 12:21:02,813 INFO sqlalchemy.engine.Engine PRAGMA main.table_info(\"Employees\")\n",
      "2024-12-09 12:21:02,816 INFO sqlalchemy.engine.Engine [raw sql] ()\n",
      "2024-12-09 12:21:02,820 INFO sqlalchemy.engine.Engine PRAGMA temp.table_info(\"Employees\")\n",
      "2024-12-09 12:21:02,821 INFO sqlalchemy.engine.Engine [raw sql] ()\n",
      "2024-12-09 12:21:02,825 INFO sqlalchemy.engine.Engine \n",
      "CREATE TABLE \"Employees\" (\n",
      "\temployee_id INTEGER NOT NULL, \n",
      "\tname VARCHAR, \n",
      "\tmanager_id INTEGER, \n",
      "\tsalary INTEGER, \n",
      "\tPRIMARY KEY (employee_id)\n",
      ")\n",
      "\n",
      "\n",
      "2024-12-09 12:21:02,826 INFO sqlalchemy.engine.Engine [no key 0.00163s] ()\n",
      "2024-12-09 12:21:02,907 INFO sqlalchemy.engine.Engine COMMIT\n",
      "2024-12-09 12:21:02,908 INFO sqlalchemy.engine.Engine ROLLBACK\n"
     ]
    }
   ],
   "source": [
    "# Drop table if it exists, then create the table\n",
    "with engine.connect() as connection:\n",
    "    # Drop the table if it exists using text() to wrap the raw SQL\n",
    "    connection.execute(text(\"DROP TABLE IF EXISTS Employees\"))\n",
    "    \n",
    "    # Recreate the table\n",
    "    metadata.create_all(engine)  # This creates all tables defined in `metadata`"
   ]
  },
  {
   "cell_type": "code",
   "execution_count": 49,
   "metadata": {},
   "outputs": [
    {
     "name": "stdout",
     "output_type": "stream",
     "text": [
      "2024-12-09 12:21:18,764 INFO sqlalchemy.engine.Engine BEGIN (implicit)\n",
      "2024-12-09 12:21:18,767 INFO sqlalchemy.engine.Engine INSERT INTO \"Employees\" (employee_id, name, manager_id, salary) VALUES (?, ?, ?, ?)\n",
      "2024-12-09 12:21:18,769 INFO sqlalchemy.engine.Engine [generated in 0.00157s] [(3, 'Mila', 9, 60301), (12, 'Antonella', None, 31000), (13, 'Emery', None, 67084), (1, 'Kalel', 11, 21241), (9, 'Mikaela', None, 50937), (11, 'Joziah', 6, 28485)]\n",
      "2024-12-09 12:21:18,773 INFO sqlalchemy.engine.Engine COMMIT\n"
     ]
    }
   ],
   "source": [
    "# Insert data\n",
    "with engine.begin() as connection:  # Automatically commits or rolls back\n",
    "    connection.execute(\n",
    "        employees.insert(),\n",
    "        [\n",
    "            {\"employee_id\": 3, \"name\": \"Mila\", \"manager_id\": 9, \"salary\": 60301},\n",
    "            {\"employee_id\": 12, \"name\": \"Antonella\", \"manager_id\": None, \"salary\": 31000},\n",
    "            {\"employee_id\": 13, \"name\": \"Emery\", \"manager_id\": None, \"salary\": 67084},\n",
    "            {\"employee_id\": 1, \"name\": \"Kalel\", \"manager_id\": 11, \"salary\": 21241},\n",
    "            {\"employee_id\": 9, \"name\": \"Mikaela\", \"manager_id\": None, \"salary\": 50937},\n",
    "            {\"employee_id\": 11, \"name\": \"Joziah\", \"manager_id\": 6, \"salary\": 28485},\n",
    "        ]\n",
    "    )"
   ]
  },
  {
   "cell_type": "code",
   "execution_count": 51,
   "metadata": {},
   "outputs": [
    {
     "name": "stdout",
     "output_type": "stream",
     "text": [
      "2024-12-09 12:25:54,240 INFO sqlalchemy.engine.Engine BEGIN (implicit)\n",
      "2024-12-09 12:25:54,242 INFO sqlalchemy.engine.Engine \n",
      "SELECT employee_id\n",
      "FROM Employees e\n",
      "WHERE e.salary < 30000\n",
      "  AND e.manager_id NOT IN (SELECT employee_id FROM Employees)\n",
      "ORDER BY employee_id;\n",
      "\n",
      "2024-12-09 12:25:54,245 INFO sqlalchemy.engine.Engine [raw sql] ()\n",
      "2024-12-09 12:25:54,251 INFO sqlalchemy.engine.Engine ROLLBACK\n"
     ]
    },
    {
     "data": {
      "text/html": [
       "<div>\n",
       "<style scoped>\n",
       "    .dataframe tbody tr th:only-of-type {\n",
       "        vertical-align: middle;\n",
       "    }\n",
       "\n",
       "    .dataframe tbody tr th {\n",
       "        vertical-align: top;\n",
       "    }\n",
       "\n",
       "    .dataframe thead th {\n",
       "        text-align: right;\n",
       "    }\n",
       "</style>\n",
       "<table border=\"1\" class=\"dataframe\">\n",
       "  <thead>\n",
       "    <tr style=\"text-align: right;\">\n",
       "      <th></th>\n",
       "      <th>employee_id</th>\n",
       "    </tr>\n",
       "  </thead>\n",
       "  <tbody>\n",
       "    <tr>\n",
       "      <th>0</th>\n",
       "      <td>11</td>\n",
       "    </tr>\n",
       "  </tbody>\n",
       "</table>\n",
       "</div>"
      ],
      "text/plain": [
       "   employee_id\n",
       "0           11"
      ]
     },
     "execution_count": 51,
     "metadata": {},
     "output_type": "execute_result"
    }
   ],
   "source": [
    "query = '''\n",
    "SELECT employee_id\n",
    "FROM Employees e\n",
    "WHERE e.salary < 30000\n",
    "  AND e.manager_id NOT IN (SELECT employee_id FROM Employees)\n",
    "ORDER BY employee_id;\n",
    "'''\n",
    "\n",
    "# Using Pandas to execute and fetch results\n",
    "pd.read_sql_query(query, engine)  # `engine` is the SQLAlchemy engine"
   ]
  }
 ],
 "metadata": {
  "kernelspec": {
   "display_name": "Python 3",
   "language": "python",
   "name": "python3"
  },
  "language_info": {
   "codemirror_mode": {
    "name": "ipython",
    "version": 3
   },
   "file_extension": ".py",
   "mimetype": "text/x-python",
   "name": "python",
   "nbconvert_exporter": "python",
   "pygments_lexer": "ipython3",
   "version": "3.11.9"
  }
 },
 "nbformat": 4,
 "nbformat_minor": 2
}
